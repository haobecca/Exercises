{
 "cells": [
  {
   "cell_type": "markdown",
   "metadata": {},
   "source": [
    "## Input Strings and Convert Numerical Values to Text"
   ]
  },
  {
   "cell_type": "code",
   "execution_count": 65,
   "metadata": {},
   "outputs": [],
   "source": [
    "test_cases = (\"I have 5 siblings.\",\"Mom bought 12 bananas.\",\"The freezing point is 0 degrees celsius.\",\"He is 19 years old.\")"
   ]
  },
  {
   "cell_type": "code",
   "execution_count": 39,
   "metadata": {},
   "outputs": [
    {
     "name": "stdout",
     "output_type": "stream",
     "text": [
      "zero\n"
     ]
    }
   ],
   "source": [
    "values = dict(zip(['0','1','2','3','4','5','6','7','8','9','10','11','12','13','14','15','16','17','18','19','20'],['zero','one','two','three','four','five','six','seven','eight',\n",
    "                                                                          'nine','ten','eleven','twelve','thirteen','fourteen','fifteen','sixteen','seventeen','eighteen','nineteen','twenty'],))\n"
   ]
  },
  {
   "cell_type": "code",
   "execution_count": 63,
   "metadata": {},
   "outputs": [],
   "source": [
    "def numtotext(sentence):\n",
    "    for x in sentence.split():\n",
    "        if x.isnumeric():\n",
    "            print(values[(x)],'',end='')\n",
    "        else:\n",
    "            print(x,'',end='')\n",
    "    print('')"
   ]
  },
  {
   "cell_type": "code",
   "execution_count": 67,
   "metadata": {},
   "outputs": [
    {
     "name": "stdout",
     "output_type": "stream",
     "text": [
      "I have five siblings. \n",
      "Mom bought twelve bananas. \n",
      "The freezing point is zero degrees celsius. \n",
      "He is nineteen years old. \n"
     ]
    }
   ],
   "source": [
    "for test in test_cases:\n",
    "    numtotext(test)"
   ]
  },
  {
   "cell_type": "markdown",
   "metadata": {},
   "source": []
  },
  {
   "cell_type": "code",
   "execution_count": null,
   "metadata": {},
   "outputs": [],
   "source": []
  }
 ],
 "metadata": {
  "kernelspec": {
   "display_name": "Python 3",
   "language": "python",
   "name": "python3"
  },
  "language_info": {
   "codemirror_mode": {
    "name": "ipython",
    "version": 3
   },
   "file_extension": ".py",
   "mimetype": "text/x-python",
   "name": "python",
   "nbconvert_exporter": "python",
   "pygments_lexer": "ipython3",
   "version": "3.6.5"
  }
 },
 "nbformat": 4,
 "nbformat_minor": 2
}
