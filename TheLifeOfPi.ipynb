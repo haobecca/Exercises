{
 "cells": [
  {
   "cell_type": "code",
   "execution_count": 30,
   "metadata": {},
   "outputs": [],
   "source": [
    "import random \n",
    "import numpy as np\n",
    "import math\n",
    "\n",
    "# Formula for our circle: x**2 + y**2 = 1\n"
   ]
  },
  {
   "cell_type": "code",
   "execution_count": 24,
   "metadata": {},
   "outputs": [],
   "source": [
    "def rand_pair():\n",
    "    return (np.random.random(), np.random.random())"
   ]
  },
  {
   "cell_type": "code",
   "execution_count": 25,
   "metadata": {},
   "outputs": [],
   "source": [
    "def in_circ(coord):\n",
    "    # print(coord)\n",
    "    # print(coord[0]**2 + coord[1]**2)\n",
    "    return coord[0]**2 + coord[1]**2 <= 1\n",
    "    \n",
    "    "
   ]
  },
  {
   "cell_type": "code",
   "execution_count": 26,
   "metadata": {},
   "outputs": [
    {
     "data": {
      "text/plain": [
       "False"
      ]
     },
     "execution_count": 26,
     "metadata": {},
     "output_type": "execute_result"
    }
   ],
   "source": [
    "in_circ(rand_pair())"
   ]
  },
  {
   "cell_type": "code",
   "execution_count": 27,
   "metadata": {},
   "outputs": [],
   "source": [
    "def pi(precision):\n",
    "    in_circ_count = 0\n",
    "    for _ in range(0, precision+1):\n",
    "        if in_circ(rand_pair()):\n",
    "            in_circ_count += 1\n",
    "    return ((in_circ_count/precision)*4)\n",
    "    "
   ]
  },
  {
   "cell_type": "code",
   "execution_count": 37,
   "metadata": {},
   "outputs": [
    {
     "name": "stdout",
     "output_type": "stream",
     "text": [
      "Our Pi estimate is 3.141834 . The pecent error is 0.0076822948363754005 %.\n"
     ]
    }
   ],
   "source": [
    "pi_estimate = pi(10000000)\n",
    "print(\"Our Pi estimate is\", pi_estimate,\".\", \"The pecent error is\", (abs((math.pi - pi_estimate)/math.pi)*100),\"%.\")"
   ]
  },
  {
   "cell_type": "code",
   "execution_count": 40,
   "metadata": {},
   "outputs": [],
   "source": [
    "def Leibniz(max):\n",
    "    var = 0.0\n",
    "    for x in range(1, max, 2):\n",
    "        if \n",
    "            var = var + 1/x\n",
    "        elif: \n",
    "            var = var - 1/x \n",
    "    return var"
   ]
  },
  {
   "cell_type": "code",
   "execution_count": 42,
   "metadata": {},
   "outputs": [
    {
     "name": "stdout",
     "output_type": "stream",
     "text": [
      "4.0890591455550735\n"
     ]
    }
   ],
   "source": [
    "print(Leibniz(1000))"
   ]
  },
  {
   "cell_type": "code",
   "execution_count": null,
   "metadata": {},
   "outputs": [],
   "source": []
  }
 ],
 "metadata": {
  "kernelspec": {
   "display_name": "Python 3",
   "language": "python",
   "name": "python3"
  },
  "language_info": {
   "codemirror_mode": {
    "name": "ipython",
    "version": 3
   },
   "file_extension": ".py",
   "mimetype": "text/x-python",
   "name": "python",
   "nbconvert_exporter": "python",
   "pygments_lexer": "ipython3",
   "version": "3.6.5"
  }
 },
 "nbformat": 4,
 "nbformat_minor": 2
}
