{
 "cells": [
  {
   "cell_type": "markdown",
   "metadata": {},
   "source": [
    "# Estimating the value of Pi\n",
    "\n",
    "## 2 methods:\n",
    "    - by plotting random points in the first quadrant\n",
    "    - using Leibniz series"
   ]
  },
  {
   "cell_type": "code",
   "execution_count": 1,
   "metadata": {},
   "outputs": [],
   "source": [
    "import random \n",
    "import numpy as np\n",
    "import math\n",
    "\n",
    "# Formula for our circle: x**2 + y**2 = 1"
   ]
  },
  {
   "cell_type": "code",
   "execution_count": 2,
   "metadata": {},
   "outputs": [],
   "source": [
    "def rand_pair():\n",
    "    return (np.random.random(), np.random.random())"
   ]
  },
  {
   "cell_type": "code",
   "execution_count": 3,
   "metadata": {},
   "outputs": [],
   "source": [
    "def in_circ(coord):\n",
    "    # print(coord)\n",
    "    # print(coord[0]**2 + coord[1]**2)\n",
    "    return coord[0]**2 + coord[1]**2 <= 1\n",
    "    \n",
    "    "
   ]
  },
  {
   "cell_type": "code",
   "execution_count": 4,
   "metadata": {},
   "outputs": [
    {
     "data": {
      "text/plain": [
       "True"
      ]
     },
     "execution_count": 4,
     "metadata": {},
     "output_type": "execute_result"
    }
   ],
   "source": [
    "in_circ(rand_pair())"
   ]
  },
  {
   "cell_type": "code",
   "execution_count": 5,
   "metadata": {},
   "outputs": [],
   "source": [
    "def pi(precision):\n",
    "    in_circ_count = 0\n",
    "    for _ in range(0, precision+1):\n",
    "        if in_circ(rand_pair()):\n",
    "            in_circ_count += 1\n",
    "    return ((in_circ_count/precision)*4)\n",
    "\n",
    "# More concise but same idea\n",
    "#def pi(prec):\n",
    "    #return len([1 for _ in range(0, prec) if in_circ(rand_pair())]) * (4/prec)\n"
   ]
  },
  {
   "cell_type": "code",
   "execution_count": 6,
   "metadata": {},
   "outputs": [
    {
     "name": "stdout",
     "output_type": "stream",
     "text": [
      "Our Pi estimate is 3.1415204 . The pecent error is 0.002299903194338469 %.\n"
     ]
    }
   ],
   "source": [
    "number_of_points = 10000000\n",
    "pi_estimate = pi(number_of_points)\n",
    "print(\"Our Pi estimate is\", pi_estimate,\".\", \"The pecent error is\", (abs((math.pi - pi_estimate)/math.pi)*100),\"%.\")"
   ]
  },
  {
   "cell_type": "code",
   "execution_count": 7,
   "metadata": {},
   "outputs": [],
   "source": [
    "def Leibniz(n):\n",
    "    # 1 - (1/3) + (1/5) - (1/7)...\n",
    "    quarter_pi = 0.0\n",
    "    switch = True\n",
    "    for x in range(1, n, 2):\n",
    "        if switch:\n",
    "            quarter_pi += 1/x\n",
    "            # switch = False\n",
    "        else:\n",
    "            quarter_pi -= 1/x\n",
    "            # switch = True\n",
    "        switch = not switch\n",
    "    return quarter_pi * 4"
   ]
  },
  {
   "cell_type": "code",
   "execution_count": 8,
   "metadata": {},
   "outputs": [
    {
     "name": "stdout",
     "output_type": "stream",
     "text": [
      "3.141392653591791\n"
     ]
    }
   ],
   "source": [
    "number_of_terms = 10000\n",
    "print(Leibniz(number_of_terms))"
   ]
  }
 ],
 "metadata": {
  "kernelspec": {
   "display_name": "Python 3",
   "language": "python",
   "name": "python3"
  },
  "language_info": {
   "codemirror_mode": {
    "name": "ipython",
    "version": 3
   },
   "file_extension": ".py",
   "mimetype": "text/x-python",
   "name": "python",
   "nbconvert_exporter": "python",
   "pygments_lexer": "ipython3",
   "version": "3.6.5"
  }
 },
 "nbformat": 4,
 "nbformat_minor": 2
}
