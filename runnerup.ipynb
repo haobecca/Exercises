{
 "cells": [
  {
   "cell_type": "code",
   "execution_count": 70,
   "metadata": {},
   "outputs": [],
   "source": [
    "Scores = [99, 98, 100, 100, 100, 100, 20, 14, 76, 44, 56, 78]"
   ]
  },
  {
   "cell_type": "code",
   "execution_count": 68,
   "metadata": {},
   "outputs": [],
   "source": [
    "def runnerup(scores):\n",
    "    if len(scores) < 2:\n",
    "        return 'Need at least 2 scores'\n",
    "    else:\n",
    "        New_Scores = [x for x in scores if x != max(scores)]\n",
    "        return 'The runner-up score is ' + str(max(New_Scores))\n"
   ]
  },
  {
   "cell_type": "code",
   "execution_count": 71,
   "metadata": {},
   "outputs": [
    {
     "name": "stdout",
     "output_type": "stream",
     "text": [
      "The runner-up score is 99\n"
     ]
    }
   ],
   "source": [
    "print(runnerup(Scores))"
   ]
  },
  {
   "cell_type": "code",
   "execution_count": null,
   "metadata": {},
   "outputs": [],
   "source": []
  }
 ],
 "metadata": {
  "kernelspec": {
   "display_name": "Python 3",
   "language": "python",
   "name": "python3"
  },
  "language_info": {
   "codemirror_mode": {
    "name": "ipython",
    "version": 3
   },
   "file_extension": ".py",
   "mimetype": "text/x-python",
   "name": "python",
   "nbconvert_exporter": "python",
   "pygments_lexer": "ipython3",
   "version": "3.6.5"
  }
 },
 "nbformat": 4,
 "nbformat_minor": 2
}
