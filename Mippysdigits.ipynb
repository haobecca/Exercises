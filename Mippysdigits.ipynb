{
 "cells": [
  {
   "cell_type": "markdown",
   "metadata": {},
   "source": [
    "##  Detecting Phone Numbers"
   ]
  },
  {
   "cell_type": "code",
   "execution_count": 1,
   "metadata": {},
   "outputs": [],
   "source": [
    "test_cases = (\"Hey, Mippy's digits are 789-987-0987!\",\n",
    "              \"Hey, Mippy's digits are 7899870987 !\",\n",
    "              \"Hey, Mippy's digits are (789) 987-0987!\",\n",
    "              \"Hey, Mippy's digits are 666420\",\n",
    "              \"Hey, Mippy's digits are 80085\",\n",
    "              \"Hey, Mippy's digits are ------\",\n",
    "              \"H3y, M1ppy'5 d191t5 4r3 5\",\n",
    "              )\n",
    "\n",
    "\n",
    "characters = ['0','1','2','3','4','5','6','7','8','9']\n"
   ]
  },
  {
   "cell_type": "code",
   "execution_count": 2,
   "metadata": {},
   "outputs": [],
   "source": [
    "def check(text):\n",
    "    for x in text:\n",
    "        if x in characters:\n",
    "            print(x,end='')\n",
    "            \n",
    "    print('')"
   ]
  },
  {
   "cell_type": "code",
   "execution_count": 3,
   "metadata": {},
   "outputs": [
    {
     "name": "stdout",
     "output_type": "stream",
     "text": [
      "7899870987\n",
      "7899870987\n",
      "7899870987\n",
      "666420\n",
      "80085\n",
      "\n",
      "3151915435\n"
     ]
    }
   ],
   "source": [
    "for text in test_cases:\n",
    "    check(text)"
   ]
  },
  {
   "cell_type": "code",
   "execution_count": 4,
   "metadata": {},
   "outputs": [],
   "source": [
    "def phone_number(text):\n",
    "    phone_numbers = []\n",
    "    for x in text:\n",
    "        if x in characters:\n",
    "            phone_numbers.append(x)\n",
    "    if len(phone_numbers) == 10:\n",
    "        for d in phone_numbers:   \n",
    "            print(d,end='')\n",
    "        print('')\n",
    "    else:\n",
    "        print('No phone numbers found','')"
   ]
  },
  {
   "cell_type": "code",
   "execution_count": 5,
   "metadata": {},
   "outputs": [
    {
     "name": "stdout",
     "output_type": "stream",
     "text": [
      "7899870987\n",
      "7899870987\n",
      "7899870987\n",
      "No phone numbers found \n",
      "No phone numbers found \n",
      "No phone numbers found \n",
      "3151915435\n"
     ]
    }
   ],
   "source": [
    "for text in test_cases:\n",
    "    phone_number(text)"
   ]
  },
  {
   "cell_type": "code",
   "execution_count": 15,
   "metadata": {},
   "outputs": [
    {
     "name": "stdout",
     "output_type": "stream",
     "text": [
      "7899870987\n",
      "7899870987\n",
      "7899870987\n",
      "None\n",
      "None\n",
      "None\n",
      "3151915435\n"
     ]
    }
   ],
   "source": [
    "def phonenumber(text):\n",
    "    nums = [x for x in text if x in \"0123456789\"]\n",
    "    return \"\".join(nums) if len(nums) == 10 else None\n",
    "\n",
    "for text in test_cases:\n",
    "    print(phonenumber(text))"
   ]
  },
  {
   "cell_type": "code",
   "execution_count": 7,
   "metadata": {},
   "outputs": [],
   "source": [
    "import re\n",
    "\n",
    "def phone_number_re(text):\n",
    "    s = re.compile('\\(?\\d{3}\\)?-?\\s?\\d{3}-?\\s?\\d{4}').search(text)\n",
    "    return text[s.start():s.end()] if s else None"
   ]
  },
  {
   "cell_type": "code",
   "execution_count": 8,
   "metadata": {},
   "outputs": [
    {
     "name": "stdout",
     "output_type": "stream",
     "text": [
      "789-987-0987\n",
      "7899870987\n",
      "(789) 987-0987\n",
      "None\n",
      "None\n",
      "None\n",
      "None\n"
     ]
    }
   ],
   "source": [
    "for text in test_cases:\n",
    "    print(phone_number_re(text))"
   ]
  }
 ],
 "metadata": {
  "kernelspec": {
   "display_name": "Python 3",
   "language": "python",
   "name": "python3"
  },
  "language_info": {
   "codemirror_mode": {
    "name": "ipython",
    "version": 3
   },
   "file_extension": ".py",
   "mimetype": "text/x-python",
   "name": "python",
   "nbconvert_exporter": "python",
   "pygments_lexer": "ipython3",
   "version": "3.6.5"
  }
 },
 "nbformat": 4,
 "nbformat_minor": 2
}
