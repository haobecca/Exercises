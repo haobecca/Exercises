{
 "cells": [
  {
   "cell_type": "markdown",
   "metadata": {},
   "source": [
    "Write a program to print a table of Fahrenheit to Celsius conversions for temperatures between - 30 ∘ F and 100 ∘ F at 10-degree intervals. \n",
    "\n",
    " - Write a function to convert Fahrenheit to Celsius; the formula is (5/9) * ( F - 32 ) "
   ]
  },
  {
   "cell_type": "code",
   "execution_count": 2,
   "metadata": {},
   "outputs": [],
   "source": [
    "# Generate list within specified range with step\n",
    "Fahrenheit = list(range(-30, 110, 10))"
   ]
  },
  {
   "cell_type": "code",
   "execution_count": 18,
   "metadata": {},
   "outputs": [
    {
     "name": "stdout",
     "output_type": "stream",
     "text": [
      "[(-30, -34), (-20, -29), (-10, -23), (0, -18), (10, -12), (20, -7), (30, -1), (40, 4), (50, 10), (60, 16), (70, 21), (80, 27), (90, 32), (100, 38)]\n"
     ]
    }
   ],
   "source": [
    "# Returning list of zipped pairs of Fahrenheit and corresponding Celcius\n",
    "def FList2CList(temp):\n",
    "    Celsius = [round((5 / 9) * (x - 32)) for x in Fahrenheit]\n",
    "    return(list(zip(Fahrenheit, Celsius)))\n",
    "\n",
    "print(FList2CList(Fahrenheit))\n",
    "\n",
    "f_and_c_temps = FList2CList(Fahrenheit)\n"
   ]
  },
  {
   "cell_type": "code",
   "execution_count": 19,
   "metadata": {},
   "outputs": [
    {
     "name": "stdout",
     "output_type": "stream",
     "text": [
      "Fahrenheit\n",
      "| -30| -20| -10| 0| 10| 20| 30| 40| 50| 60| 70| 80| 90| 100\n",
      "Celsius\n",
      "| -34| -29| -23| -18| -12| -7| -1| 4| 10| 16| 21| 27| 32| 38"
     ]
    }
   ],
   "source": [
    "# Creating simple visual table of conversion\n",
    "def table(Fahrenheit):\n",
    "    print(\"Fahrenheit\")\n",
    "    for item in Fahrenheit:\n",
    "        print('|', item, end='')\n",
    "    print(\"\")\n",
    "    print(\"Celsius\")    \n",
    "    for item in Fahrenheit:\n",
    "        print('|', round((5.0 / 9.0) * (item - 32)), end='')\n",
    "        \n",
    "table(Fahrenheit)"
   ]
  },
  {
   "cell_type": "code",
   "execution_count": 20,
   "metadata": {},
   "outputs": [
    {
     "name": "stdout",
     "output_type": "stream",
     "text": [
      "100 Fahrenheit is equal to 38 Celsius\n"
     ]
    }
   ],
   "source": [
    "def converttemp(Fahrenheit):\n",
    "        print(Fahrenheit, \"Fahrenheit is equal to\", round((5 / 9) * (Fahrenheit - 32)), \"Celsius\")\n",
    "        \n",
    "converttemp(100)"
   ]
  },
  {
   "cell_type": "code",
   "execution_count": 21,
   "metadata": {},
   "outputs": [
    {
     "name": "stdout",
     "output_type": "stream",
     "text": [
      "|      F |      C |\n",
      "|        |        |\n",
      "|    -30 |    -34 |\n",
      "|    -20 |    -29 |\n",
      "|    -10 |    -23 |\n",
      "|      0 |    -18 |\n",
      "|     10 |    -12 |\n",
      "|     20 |     -7 |\n",
      "|     30 |     -1 |\n",
      "|     40 |      4 |\n",
      "|     50 |     10 |\n",
      "|     60 |     16 |\n",
      "|     70 |     21 |\n",
      "|     80 |     27 |\n",
      "|     90 |     32 |\n",
      "|    100 |     38 |\n"
     ]
    }
   ],
   "source": [
    "def print_temp_pairs(temp_pairs):\n",
    "\n",
    "    # helper for adjusting spaces in each line\n",
    "    def print_pair(_pair, length):\n",
    "    # def format_row(row_values, width, ncolumns):\n",
    "        for temp in _pair:\n",
    "            s = str(temp)\n",
    "            padding = length - len(s)\n",
    "            s = padding*' ' + s\n",
    "            print(f\"| {s} \", end='')\n",
    "        print(\"|\")\n",
    "\n",
    "    # print(\"|\", \" F \", \"|\", \" C \", \"|\")\n",
    "    # print(\"|\", \"---\", \"|\", \"---\", \"|\")\n",
    "    print_pair(('F', 'C'), 6)\n",
    "    print_pair((' ', ' '), 6)\n",
    "    for pair in temp_pairs:\n",
    "        print_pair(pair, 6)\n",
    "\n",
    "\n",
    "print_temp_pairs(f_and_c_temps)"
   ]
  }
 ],
 "metadata": {
  "kernelspec": {
   "display_name": "Python 3",
   "language": "python",
   "name": "python3"
  },
  "language_info": {
   "codemirror_mode": {
    "name": "ipython",
    "version": 3
   },
   "file_extension": ".py",
   "mimetype": "text/x-python",
   "name": "python",
   "nbconvert_exporter": "python",
   "pygments_lexer": "ipython3",
   "version": "3.6.5"
  }
 },
 "nbformat": 4,
 "nbformat_minor": 2
}
